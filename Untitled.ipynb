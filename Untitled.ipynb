{
 "cells": [
  {
   "cell_type": "code",
   "execution_count": 8,
   "id": "741f52a9",
   "metadata": {},
   "outputs": [
    {
     "name": "stdout",
     "output_type": "stream",
     "text": [
      "15.6\n"
     ]
    }
   ],
   "source": [
    "a=5\n",
    "b=10.6\n",
    "print(a+b)"
   ]
  },
  {
   "cell_type": "code",
   "execution_count": 9,
   "id": "fcecf778",
   "metadata": {},
   "outputs": [
    {
     "data": {
      "text/plain": [
       "2.12"
      ]
     },
     "execution_count": 9,
     "metadata": {},
     "output_type": "execute_result"
    }
   ],
   "source": [
    "b/a"
   ]
  },
  {
   "cell_type": "code",
   "execution_count": 10,
   "id": "25d9e955",
   "metadata": {},
   "outputs": [
    {
     "data": {
      "text/plain": [
       "2.0"
      ]
     },
     "execution_count": 10,
     "metadata": {},
     "output_type": "execute_result"
    }
   ],
   "source": [
    "b//a #floor division\n"
   ]
  },
  {
   "cell_type": "code",
   "execution_count": 11,
   "id": "cbbd4400",
   "metadata": {},
   "outputs": [
    {
     "data": {
      "text/plain": [
       "53.0"
      ]
     },
     "execution_count": 11,
     "metadata": {},
     "output_type": "execute_result"
    }
   ],
   "source": [
    "b*a\n"
   ]
  },
  {
   "cell_type": "code",
   "execution_count": 14,
   "id": "07dac11b",
   "metadata": {},
   "outputs": [
    {
     "data": {
      "text/plain": [
       "5.6"
      ]
     },
     "execution_count": 14,
     "metadata": {},
     "output_type": "execute_result"
    }
   ],
   "source": [
    "b-a\n"
   ]
  },
  {
   "cell_type": "code",
   "execution_count": 17,
   "id": "dfea4e47",
   "metadata": {},
   "outputs": [
    {
     "data": {
      "text/plain": [
       "112.36"
      ]
     },
     "execution_count": 17,
     "metadata": {},
     "output_type": "execute_result"
    }
   ],
   "source": [
    "#exponent (b square)\n",
    "b**2\n"
   ]
  },
  {
   "cell_type": "code",
   "execution_count": 23,
   "id": "ab3e0c12",
   "metadata": {},
   "outputs": [
    {
     "data": {
      "text/plain": [
       "False"
      ]
     },
     "execution_count": 23,
     "metadata": {},
     "output_type": "execute_result"
    }
   ],
   "source": [
    "###comparison operator\n",
    "\n",
    "a==b"
   ]
  },
  {
   "cell_type": "code",
   "execution_count": 20,
   "id": "417aef03",
   "metadata": {},
   "outputs": [
    {
     "data": {
      "text/plain": [
       "True"
      ]
     },
     "execution_count": 20,
     "metadata": {},
     "output_type": "execute_result"
    }
   ],
   "source": [
    "a!=b"
   ]
  },
  {
   "cell_type": "code",
   "execution_count": 25,
   "id": "90c63c02",
   "metadata": {},
   "outputs": [
    {
     "data": {
      "text/plain": [
       "False"
      ]
     },
     "execution_count": 25,
     "metadata": {},
     "output_type": "execute_result"
    }
   ],
   "source": [
    "a>b"
   ]
  },
  {
   "cell_type": "markdown",
   "id": "bdd49373",
   "metadata": {},
   "source": [
    "a<b"
   ]
  },
  {
   "cell_type": "markdown",
   "id": "71ef97b9",
   "metadata": {},
   "source": [
    "# Logical\n"
   ]
  },
  {
   "cell_type": "code",
   "execution_count": 26,
   "id": "d26fc7a1",
   "metadata": {},
   "outputs": [
    {
     "name": "stdout",
     "output_type": "stream",
     "text": [
      "-7\n"
     ]
    }
   ],
   "source": [
    "import math\n",
    "print(math.ceil(-7.2))"
   ]
  },
  {
   "cell_type": "code",
   "execution_count": 27,
   "id": "962bf94d",
   "metadata": {},
   "outputs": [
    {
     "data": {
      "text/plain": [
       "False"
      ]
     },
     "execution_count": 27,
     "metadata": {},
     "output_type": "execute_result"
    }
   ],
   "source": [
    "x=4\n",
    "y=4\n",
    "z=6\n",
    "x==y and y==z"
   ]
  },
  {
   "cell_type": "code",
   "execution_count": 28,
   "id": "6cf6b466",
   "metadata": {},
   "outputs": [
    {
     "data": {
      "text/plain": [
       "True"
      ]
     },
     "execution_count": 28,
     "metadata": {},
     "output_type": "execute_result"
    }
   ],
   "source": [
    "x==y or y==z"
   ]
  },
  {
   "cell_type": "code",
   "execution_count": 30,
   "id": "af0a4857",
   "metadata": {},
   "outputs": [
    {
     "data": {
      "text/plain": [
       "False"
      ]
     },
     "execution_count": 30,
     "metadata": {},
     "output_type": "execute_result"
    }
   ],
   "source": [
    "not (x==y)"
   ]
  },
  {
   "cell_type": "markdown",
   "id": "f5c6a64b",
   "metadata": {},
   "source": [
    "# Membership Operator\n"
   ]
  },
  {
   "cell_type": "code",
   "execution_count": 31,
   "id": "b81aecc2",
   "metadata": {},
   "outputs": [
    {
     "data": {
      "text/plain": [
       "True"
      ]
     },
     "execution_count": 31,
     "metadata": {},
     "output_type": "execute_result"
    }
   ],
   "source": [
    "\"desh\" in \"Bangladesh\""
   ]
  },
  {
   "cell_type": "code",
   "execution_count": 32,
   "id": "08aa3cca",
   "metadata": {},
   "outputs": [
    {
     "data": {
      "text/plain": [
       "False"
      ]
     },
     "execution_count": 32,
     "metadata": {},
     "output_type": "execute_result"
    }
   ],
   "source": [
    "\"desh\" not in \"Bangladesh\""
   ]
  },
  {
   "cell_type": "markdown",
   "id": "82e3135e",
   "metadata": {},
   "source": [
    "# Identity"
   ]
  },
  {
   "cell_type": "code",
   "execution_count": 33,
   "id": "5ab9fe97",
   "metadata": {},
   "outputs": [
    {
     "data": {
      "text/plain": [
       "False"
      ]
     },
     "execution_count": 33,
     "metadata": {},
     "output_type": "execute_result"
    }
   ],
   "source": [
    "a is b"
   ]
  },
  {
   "cell_type": "markdown",
   "id": "0c26d407",
   "metadata": {},
   "source": [
    "# Data Structure"
   ]
  },
  {
   "cell_type": "code",
   "execution_count": 36,
   "id": "94065d35",
   "metadata": {},
   "outputs": [
    {
     "name": "stdout",
     "output_type": "stream",
     "text": [
      "['BUET', 'RUET', 'KUET', 'CUET', 'SUST']\n"
     ]
    }
   ],
   "source": [
    "#list\n",
    "list_1=['BUET','RUET',\"KUET\",\"CUET\",\"SUST\"]\n",
    "print(list_1)"
   ]
  },
  {
   "cell_type": "code",
   "execution_count": 37,
   "id": "746f9b45",
   "metadata": {},
   "outputs": [
    {
     "data": {
      "text/plain": [
       "'RUET'"
      ]
     },
     "execution_count": 37,
     "metadata": {},
     "output_type": "execute_result"
    }
   ],
   "source": [
    "list_1[1]"
   ]
  },
  {
   "cell_type": "code",
   "execution_count": 38,
   "id": "e39e0844",
   "metadata": {},
   "outputs": [
    {
     "data": {
      "text/plain": [
       "'BUET'"
      ]
     },
     "execution_count": 38,
     "metadata": {},
     "output_type": "execute_result"
    }
   ],
   "source": [
    "list_1[0]"
   ]
  },
  {
   "cell_type": "code",
   "execution_count": 39,
   "id": "03465a66",
   "metadata": {},
   "outputs": [],
   "source": [
    "list_2=[1,2,3,4]"
   ]
  },
  {
   "cell_type": "code",
   "execution_count": 40,
   "id": "d4538fb2",
   "metadata": {},
   "outputs": [
    {
     "name": "stdout",
     "output_type": "stream",
     "text": [
      "[1, 2, 3, 4]\n"
     ]
    }
   ],
   "source": [
    "print(list_2)"
   ]
  },
  {
   "cell_type": "code",
   "execution_count": 41,
   "id": "6438a8a8",
   "metadata": {},
   "outputs": [
    {
     "data": {
      "text/plain": [
       "['BUET', 'RUET', 'KUET', 'CUET', 'SUST', 1, 2, 3, 4]"
      ]
     },
     "execution_count": 41,
     "metadata": {},
     "output_type": "execute_result"
    }
   ],
   "source": [
    "list_1+list_2"
   ]
  },
  {
   "cell_type": "code",
   "execution_count": 42,
   "id": "b6522b0d",
   "metadata": {},
   "outputs": [],
   "source": [
    "list_1.append('NSU')\n"
   ]
  },
  {
   "cell_type": "code",
   "execution_count": 43,
   "id": "6c43c2b4",
   "metadata": {},
   "outputs": [
    {
     "name": "stdout",
     "output_type": "stream",
     "text": [
      "['BUET', 'RUET', 'KUET', 'CUET', 'SUST', 'NSU']\n"
     ]
    }
   ],
   "source": [
    "print(list_1)"
   ]
  },
  {
   "cell_type": "code",
   "execution_count": 45,
   "id": "744dda9a",
   "metadata": {},
   "outputs": [
    {
     "data": {
      "text/plain": [
       "['BUET', 'RUET', 'EWU', 'EWU', 'KUET', 'CUET', 'SUST', 'NSU']"
      ]
     },
     "execution_count": 45,
     "metadata": {},
     "output_type": "execute_result"
    }
   ],
   "source": [
    "list_1.insert(2,'EWU')\n",
    "list_1"
   ]
  },
  {
   "cell_type": "code",
   "execution_count": 46,
   "id": "98fb55c3",
   "metadata": {},
   "outputs": [
    {
     "data": {
      "text/plain": [
       "['BUET', 'RUET']"
      ]
     },
     "execution_count": 46,
     "metadata": {},
     "output_type": "execute_result"
    }
   ],
   "source": [
    "list_1[:2]"
   ]
  },
  {
   "cell_type": "code",
   "execution_count": 47,
   "id": "2c5ae69a",
   "metadata": {},
   "outputs": [
    {
     "data": {
      "text/plain": [
       "['EWU', 'EWU', 'KUET', 'CUET', 'SUST', 'NSU']"
      ]
     },
     "execution_count": 47,
     "metadata": {},
     "output_type": "execute_result"
    }
   ],
   "source": [
    "list_1[2:]"
   ]
  },
  {
   "cell_type": "code",
   "execution_count": 54,
   "id": "6fa22ec7",
   "metadata": {},
   "outputs": [],
   "source": [
    "del list_1[:2]"
   ]
  },
  {
   "cell_type": "code",
   "execution_count": 55,
   "id": "8ae7b342",
   "metadata": {},
   "outputs": [
    {
     "data": {
      "text/plain": [
       "['KUET', 'CUET', 'SUST', 'NSU']"
      ]
     },
     "execution_count": 55,
     "metadata": {},
     "output_type": "execute_result"
    }
   ],
   "source": [
    "list_1\n"
   ]
  },
  {
   "cell_type": "code",
   "execution_count": 56,
   "id": "f9410a27",
   "metadata": {},
   "outputs": [],
   "source": [
    "list_1.insert(1,'BUET')"
   ]
  },
  {
   "cell_type": "code",
   "execution_count": 57,
   "id": "d5416e1c",
   "metadata": {},
   "outputs": [
    {
     "data": {
      "text/plain": [
       "['KUET', 'BUET', 'CUET', 'SUST', 'NSU']"
      ]
     },
     "execution_count": 57,
     "metadata": {},
     "output_type": "execute_result"
    }
   ],
   "source": [
    "list_1\n"
   ]
  },
  {
   "cell_type": "code",
   "execution_count": 58,
   "id": "318c6e13",
   "metadata": {},
   "outputs": [],
   "source": [
    "list_1.insert(2,'RUET')"
   ]
  },
  {
   "cell_type": "code",
   "execution_count": 59,
   "id": "52961442",
   "metadata": {},
   "outputs": [
    {
     "data": {
      "text/plain": [
       "['KUET', 'BUET', 'RUET', 'CUET', 'SUST', 'NSU']"
      ]
     },
     "execution_count": 59,
     "metadata": {},
     "output_type": "execute_result"
    }
   ],
   "source": [
    "list_1\n"
   ]
  },
  {
   "cell_type": "code",
   "execution_count": 60,
   "id": "9d19b849",
   "metadata": {},
   "outputs": [],
   "source": [
    "list_1.extend([list_2])"
   ]
  },
  {
   "cell_type": "code",
   "execution_count": 61,
   "id": "98d64397",
   "metadata": {},
   "outputs": [
    {
     "data": {
      "text/plain": [
       "['KUET', 'BUET', 'RUET', 'CUET', 'SUST', 'NSU', [1, 2, 3, 4]]"
      ]
     },
     "execution_count": 61,
     "metadata": {},
     "output_type": "execute_result"
    }
   ],
   "source": [
    "list_1"
   ]
  },
  {
   "cell_type": "code",
   "execution_count": 62,
   "id": "45597860",
   "metadata": {},
   "outputs": [
    {
     "name": "stdout",
     "output_type": "stream",
     "text": [
      "<class 'list'>\n"
     ]
    }
   ],
   "source": [
    "print(type(list_1[6]))"
   ]
  },
  {
   "cell_type": "code",
   "execution_count": 63,
   "id": "d157b949",
   "metadata": {},
   "outputs": [
    {
     "data": {
      "text/plain": [
       "['BUET', 'RUET']"
      ]
     },
     "execution_count": 63,
     "metadata": {},
     "output_type": "execute_result"
    }
   ],
   "source": [
    "list_1[1:3]"
   ]
  },
  {
   "cell_type": "code",
   "execution_count": 64,
   "id": "49fa9b6e",
   "metadata": {},
   "outputs": [
    {
     "data": {
      "text/plain": [
       "['KUET', 'BUET', 'RUET', 'CUET', 'SUST', 'NSU', [1, 2, 3, 4], 1, 2, 3, 4]"
      ]
     },
     "execution_count": 64,
     "metadata": {},
     "output_type": "execute_result"
    }
   ],
   "source": [
    "list_1+list_2\n"
   ]
  },
  {
   "cell_type": "code",
   "execution_count": 65,
   "id": "843ee28c",
   "metadata": {},
   "outputs": [],
   "source": [
    "list_1.extend([10,20])"
   ]
  },
  {
   "cell_type": "code",
   "execution_count": 66,
   "id": "48446e00",
   "metadata": {},
   "outputs": [
    {
     "data": {
      "text/plain": [
       "['KUET', 'BUET', 'RUET', 'CUET', 'SUST', 'NSU', [1, 2, 3, 4], 10, 20]"
      ]
     },
     "execution_count": 66,
     "metadata": {},
     "output_type": "execute_result"
    }
   ],
   "source": [
    "list_1\n"
   ]
  },
  {
   "cell_type": "code",
   "execution_count": 67,
   "id": "250adbf3",
   "metadata": {},
   "outputs": [],
   "source": [
    "del list_1[6:]"
   ]
  },
  {
   "cell_type": "code",
   "execution_count": 68,
   "id": "47b313e0",
   "metadata": {},
   "outputs": [
    {
     "data": {
      "text/plain": [
       "['KUET', 'BUET', 'RUET', 'CUET', 'SUST', 'NSU']"
      ]
     },
     "execution_count": 68,
     "metadata": {},
     "output_type": "execute_result"
    }
   ],
   "source": [
    "list_1"
   ]
  },
  {
   "cell_type": "code",
   "execution_count": 69,
   "id": "3ad1a0b1",
   "metadata": {},
   "outputs": [],
   "source": [
    "list_1.remove('NSU')"
   ]
  },
  {
   "cell_type": "code",
   "execution_count": 70,
   "id": "d5c1a924",
   "metadata": {},
   "outputs": [
    {
     "data": {
      "text/plain": [
       "['KUET', 'BUET', 'RUET', 'CUET', 'SUST']"
      ]
     },
     "execution_count": 70,
     "metadata": {},
     "output_type": "execute_result"
    }
   ],
   "source": [
    "list_1\n"
   ]
  },
  {
   "cell_type": "code",
   "execution_count": 71,
   "id": "0264046c",
   "metadata": {},
   "outputs": [],
   "source": [
    "del list_1[-2]"
   ]
  },
  {
   "cell_type": "code",
   "execution_count": 72,
   "id": "f04b5a0e",
   "metadata": {},
   "outputs": [
    {
     "data": {
      "text/plain": [
       "['KUET', 'BUET', 'RUET', 'SUST']"
      ]
     },
     "execution_count": 72,
     "metadata": {},
     "output_type": "execute_result"
    }
   ],
   "source": [
    "list_1\n"
   ]
  },
  {
   "cell_type": "code",
   "execution_count": 73,
   "id": "c495cb63",
   "metadata": {},
   "outputs": [],
   "source": [
    "del list_1[-3:]"
   ]
  },
  {
   "cell_type": "code",
   "execution_count": 74,
   "id": "ac5fef75",
   "metadata": {},
   "outputs": [
    {
     "data": {
      "text/plain": [
       "['KUET']"
      ]
     },
     "execution_count": 74,
     "metadata": {},
     "output_type": "execute_result"
    }
   ],
   "source": [
    "list_1\n"
   ]
  },
  {
   "cell_type": "code",
   "execution_count": 75,
   "id": "ecf06b06",
   "metadata": {},
   "outputs": [
    {
     "ename": "TypeError",
     "evalue": "insert expected 2 arguments, got 8",
     "output_type": "error",
     "traceback": [
      "\u001b[1;31m---------------------------------------------------------------------------\u001b[0m",
      "\u001b[1;31mTypeError\u001b[0m                                 Traceback (most recent call last)",
      "Cell \u001b[1;32mIn[75], line 1\u001b[0m\n\u001b[1;32m----> 1\u001b[0m \u001b[43mlist_1\u001b[49m\u001b[38;5;241;43m.\u001b[39;49m\u001b[43minsert\u001b[49m\u001b[43m(\u001b[49m\u001b[38;5;241;43m1\u001b[39;49m\u001b[43m,\u001b[49m\u001b[38;5;241;43m2\u001b[39;49m\u001b[43m,\u001b[49m\u001b[38;5;241;43m3\u001b[39;49m\u001b[43m,\u001b[49m\u001b[38;5;241;43m4\u001b[39;49m\u001b[43m,\u001b[49m\u001b[38;5;124;43m'\u001b[39;49m\u001b[38;5;124;43mBUET\u001b[39;49m\u001b[38;5;124;43m'\u001b[39;49m\u001b[43m,\u001b[49m\u001b[38;5;124;43m'\u001b[39;49m\u001b[38;5;124;43mRUET\u001b[39;49m\u001b[38;5;124;43m'\u001b[39;49m\u001b[43m,\u001b[49m\u001b[38;5;124;43m'\u001b[39;49m\u001b[38;5;124;43mCUET\u001b[39;49m\u001b[38;5;124;43m'\u001b[39;49m\u001b[43m,\u001b[49m\u001b[38;5;124;43m'\u001b[39;49m\u001b[38;5;124;43mSUST\u001b[39;49m\u001b[38;5;124;43m'\u001b[39;49m\u001b[43m)\u001b[49m\n",
      "\u001b[1;31mTypeError\u001b[0m: insert expected 2 arguments, got 8"
     ]
    }
   ],
   "source": [
    "list_1.insert(1,2,3,4,'BUET','RUET','CUET','SUST')"
   ]
  },
  {
   "cell_type": "code",
   "execution_count": null,
   "id": "fc4f4595",
   "metadata": {},
   "outputs": [],
   "source": []
  }
 ],
 "metadata": {
  "kernelspec": {
   "display_name": "Python 3 (ipykernel)",
   "language": "python",
   "name": "python3"
  },
  "language_info": {
   "codemirror_mode": {
    "name": "ipython",
    "version": 3
   },
   "file_extension": ".py",
   "mimetype": "text/x-python",
   "name": "python",
   "nbconvert_exporter": "python",
   "pygments_lexer": "ipython3",
   "version": "3.10.10"
  }
 },
 "nbformat": 4,
 "nbformat_minor": 5
}
