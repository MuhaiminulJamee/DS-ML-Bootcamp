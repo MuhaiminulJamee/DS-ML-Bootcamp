{
 "cells": [
  {
   "cell_type": "code",
   "execution_count": 1,
   "id": "7d2d2b03",
   "metadata": {},
   "outputs": [
    {
     "name": "stdout",
     "output_type": "stream",
     "text": [
      "30 largest\n"
     ]
    }
   ],
   "source": [
    "#Nested if-else\n",
    "a=10\n",
    "b=20\n",
    "c=30\n",
    "if a>b:\n",
    "    if a>c:\n",
    "        print(a,\"largest\")\n",
    "    else:\n",
    "        print(c,\"largest\")\n",
    "else:\n",
    "    if b>c:\n",
    "        print(b,\"largest\")\n",
    "    else: \n",
    "        print(c,\"largest\")"
   ]
  },
  {
   "cell_type": "code",
   "execution_count": 2,
   "id": "96e5d43e",
   "metadata": {},
   "outputs": [
    {
     "name": "stdout",
     "output_type": "stream",
     "text": [
      "a is less than b\n"
     ]
    }
   ],
   "source": [
    "a=10\n",
    "b=20\n",
    "if a>b:\n",
    "    print(\"a is greater than b\")\n",
    "elif a==b:\n",
    "    print(\"a is equal to b\")\n",
    "else:\n",
    "    print(\"a is less than b\")"
   ]
  },
  {
   "cell_type": "code",
   "execution_count": 4,
   "id": "3d77de6c",
   "metadata": {},
   "outputs": [
    {
     "name": "stdout",
     "output_type": "stream",
     "text": [
      "1\n"
     ]
    }
   ],
   "source": [
    "n=1\n",
    "print(n)"
   ]
  },
  {
   "cell_type": "code",
   "execution_count": 6,
   "id": "8c62f3e2",
   "metadata": {},
   "outputs": [
    {
     "name": "stdout",
     "output_type": "stream",
     "text": [
      "1\n",
      "2\n",
      "3\n",
      "4\n",
      "5\n",
      "6\n",
      "7\n",
      "8\n",
      "9\n",
      "10\n",
      "Done\n"
     ]
    }
   ],
   "source": [
    "#While loop\n",
    "n=1\n",
    "while n<=10:\n",
    "    print(n)\n",
    "    n=n+1\n",
    "    \n",
    "print(\"Done\")"
   ]
  },
  {
   "cell_type": "code",
   "execution_count": 7,
   "id": "cb34e0a7",
   "metadata": {},
   "outputs": [
    {
     "name": "stdout",
     "output_type": "stream",
     "text": [
      "1\n",
      "2\n",
      "3\n",
      "4\n",
      "5\n",
      "Done\n"
     ]
    }
   ],
   "source": [
    "#Break\n",
    "n=1\n",
    "while n<=10:\n",
    "    if n==6:\n",
    "        break\n",
    "    print(n)\n",
    "    n+=1\n",
    "print(\"Done\")"
   ]
  },
  {
   "cell_type": "code",
   "execution_count": 8,
   "id": "6a6fc78a",
   "metadata": {},
   "outputs": [
    {
     "name": "stdout",
     "output_type": "stream",
     "text": [
      "1\n",
      "2\n",
      "3\n",
      "4\n",
      "5\n",
      "7\n",
      "8\n",
      "9\n",
      "10\n",
      "Done\n"
     ]
    }
   ],
   "source": [
    "#Continue\n",
    "n=1\n",
    "while n<=10:\n",
    "    if n==6:\n",
    "        n=n+1\n",
    "        continue #Continue is used to end the current iteration in a loop and continues to the next iteration\n",
    "    print(n)\n",
    "    n+=1\n",
    "print(\"Done\")"
   ]
  },
  {
   "cell_type": "code",
   "execution_count": 9,
   "id": "c36bdc03",
   "metadata": {},
   "outputs": [
    {
     "name": "stdout",
     "output_type": "stream",
     "text": [
      "6\n",
      "7\n",
      "8\n",
      "9\n",
      "10\n",
      "Done\n"
     ]
    }
   ],
   "source": [
    "n=1\n",
    "while n<=10:\n",
    "    if n<=5:\n",
    "        n=n+1\n",
    "        continue #5 theke boro number gulo print kora holo\n",
    "    print(n)\n",
    "    n+=1\n",
    "print(\"Done\")"
   ]
  },
  {
   "cell_type": "code",
   "execution_count": 1,
   "id": "eb3d2173",
   "metadata": {},
   "outputs": [
    {
     "name": "stdout",
     "output_type": "stream",
     "text": [
      "0\n",
      "1\n",
      "2\n",
      "3\n",
      "4\n",
      "5\n",
      "6\n",
      "7\n",
      "8\n",
      "9\n"
     ]
    }
   ],
   "source": [
    "#For loop\n",
    "for i in range(10): #(0,10,1)\n",
    "    print(i)"
   ]
  },
  {
   "cell_type": "code",
   "execution_count": 2,
   "id": "70aa3cf5",
   "metadata": {},
   "outputs": [
    {
     "name": "stdout",
     "output_type": "stream",
     "text": [
      "2\n",
      "4\n",
      "6\n",
      "8\n"
     ]
    }
   ],
   "source": [
    "for i in range(2,10,2): #(initialization,condition,post-statement)\n",
    "    print(i)"
   ]
  },
  {
   "cell_type": "code",
   "execution_count": 14,
   "id": "18c0d3cd",
   "metadata": {},
   "outputs": [
    {
     "name": "stdout",
     "output_type": "stream",
     "text": [
      "Potol\n",
      "Alu\n",
      "dherosh\n"
     ]
    }
   ],
   "source": [
    "vegetable=['Potol','Alu','dherosh']\n",
    "for i in vegetable:\n",
    "    print(i)"
   ]
  },
  {
   "cell_type": "code",
   "execution_count": 16,
   "id": "91649a11",
   "metadata": {},
   "outputs": [
    {
     "name": "stdout",
     "output_type": "stream",
     "text": [
      "Potol\n",
      "Alu\n",
      "dherosh\n"
     ]
    }
   ],
   "source": [
    "vegetable=['Potol','Alu','dherosh']\n",
    "i=0\n",
    "length=len(vegetable)\n",
    "while i<length:\n",
    "    print(vegetable[i])\n",
    "    i+=1\n",
    "    "
   ]
  },
  {
   "cell_type": "code",
   "execution_count": 19,
   "id": "23acee48",
   "metadata": {},
   "outputs": [
    {
     "name": "stdout",
     "output_type": "stream",
     "text": [
      "0-Potol\n",
      "1-Alu\n",
      "2-dherosh\n"
     ]
    }
   ],
   "source": [
    "vegetable=['Potol','Alu','dherosh']\n",
    "length=len(vegetable)\n",
    "for i in range(length):\n",
    "    print(i,end=\"-\")\n",
    "    print(vegetable[i])"
   ]
  },
  {
   "cell_type": "code",
   "execution_count": 31,
   "id": "8ac0f924",
   "metadata": {},
   "outputs": [
    {
     "name": "stdout",
     "output_type": "stream",
     "text": [
      "{'Keywords': 'values'} = {'a': 'A', 'b': 'B', 'c': 'C', 'd': 'D', 'e': 'E'}\n",
      "Keywords\n",
      "a\n",
      "b\n",
      "c\n",
      "d\n",
      "e\n",
      "Values\n",
      "A\n",
      "B\n",
      "C\n",
      "D\n",
      "E\n"
     ]
    }
   ],
   "source": [
    "dict={\"a\":\"A\",\"b\":\"B\",\"c\":\"C\",\"d\":\"D\",\"e\":\"E\"}\n",
    "print(\"{\\'Keywords\\': \\'values\\'} =\", dict)\n",
    "print(\"Keywords\")\n",
    "for letter in dict:\n",
    "    print(letter)\n",
    "print(\"Values\")\n",
    "for letter in dict.values():\n",
    "    print(letter)"
   ]
  },
  {
   "cell_type": "code",
   "execution_count": 38,
   "id": "5cdf5924",
   "metadata": {},
   "outputs": [
    {
     "name": "stdout",
     "output_type": "stream",
     "text": [
      "1\n",
      "3\n",
      "5\n",
      "7\n",
      "9\n"
     ]
    }
   ],
   "source": [
    "numbers=[1,3,5,7,9]\n",
    "for i in numbers:\n",
    "    if i<9:\n",
    "        print(i)\n",
    "        i+=1\n",
    "        continue\n",
    "    else:\n",
    "        print(9)"
   ]
  },
  {
   "cell_type": "code",
   "execution_count": 51,
   "id": "4948b842",
   "metadata": {},
   "outputs": [
    {
     "name": "stdout",
     "output_type": "stream",
     "text": [
      "Put the multiplication table you want to calculate:10\n",
      "Put the limit:10\n",
      "10 X 1 = 10\n",
      "10 X 2 = 20\n",
      "10 X 3 = 30\n",
      "10 X 4 = 40\n",
      "10 X 5 = 50\n",
      "10 X 6 = 60\n",
      "10 X 7 = 70\n",
      "10 X 8 = 80\n",
      "10 X 9 = 90\n",
      "10 X 10 = 100\n"
     ]
    }
   ],
   "source": [
    "#multiplication table using for loop\n",
    "n=int(input(\"Put the multiplication table you want to calculate:\"))\n",
    "x=int(input(\"Put the limit:\"))\n",
    "for m in range(1,x+1): #(1,x,1)\n",
    "    print(n,\"X\",m,\"=\",n*m)"
   ]
  },
  {
   "cell_type": "code",
   "execution_count": 52,
   "id": "f0cfba2c",
   "metadata": {},
   "outputs": [
    {
     "name": "stdout",
     "output_type": "stream",
     "text": [
      "Put the multiplication table you want to calculate:10\n",
      "Put the limit:10\n",
      "10 X 1 = 10\n",
      "10 X 2 = 20\n",
      "10 X 3 = 30\n",
      "10 X 4 = 40\n",
      "10 X 5 = 50\n",
      "10 X 6 = 60\n",
      "10 X 7 = 70\n",
      "10 X 8 = 80\n",
      "10 X 9 = 90\n",
      "10 X 10 = 100\n"
     ]
    }
   ],
   "source": [
    "#multiplication table using while loop\n",
    "n=int(input(\"Put the multiplication table you want to calculate:\"))\n",
    "x=int(input(\"Put the limit:\"))\n",
    "m=1\n",
    "while m<=x:\n",
    "    print(n,\"X\",m,\"=\",n*m)\n",
    "    m+=1\n"
   ]
  },
  {
   "cell_type": "code",
   "execution_count": 82,
   "id": "c019afb0",
   "metadata": {},
   "outputs": [
    {
     "name": "stdout",
     "output_type": "stream",
     "text": [
      "Jamee\n",
      "Jamee 59\n",
      "Jamee 59 very good boy\n",
      "J\n",
      "a\n",
      "m\n",
      "e\n",
      "e\n",
      "\n",
      "\n",
      "e\n",
      "e\n",
      "m\n",
      "a\n",
      "J\n",
      "\n",
      "\n",
      "J a m e e "
     ]
    }
   ],
   "source": [
    "n=59\n",
    "string=\"Jamee\"\n",
    "print(string)\n",
    "string.split(\"a\")\n",
    "string.find(\"a\")\n",
    "print(string,n)\n",
    "print(f\"{string} {n} very good boy\")\n",
    "for i in string:\n",
    "    print(i)\n",
    "print(\"\\n\")\n",
    "length=len(string)\n",
    "for i in reversed(range(length)): #printing backward\n",
    "    print(string[i])\n",
    "print(\"\\n\")\n",
    "for i in string:\n",
    "    print(i,end=\" \")\n",
    "for i in string[: : -1]:\n",
    "    print(i,end=\" \")"
   ]
  },
  {
   "cell_type": "code",
   "execution_count": 83,
   "id": "c21b004a",
   "metadata": {},
   "outputs": [
    {
     "name": "stdout",
     "output_type": "stream",
     "text": [
      "Put how many numbers you want to add: 5\n",
      "10\n",
      "20\n",
      "30\n",
      "40\n",
      "50\n",
      "[10, 20, 30, 40, 50]\n"
     ]
    }
   ],
   "source": [
    "#Adding in list by using loop\n",
    "list_1=[]\n",
    "x=input(\"Put how many numbers you want to add: \")\n",
    "x1=int(x)\n",
    "for i in range(x1):\n",
    "    element=int(input())\n",
    "    list_1.append(element)\n",
    "print(list_1)\n"
   ]
  },
  {
   "cell_type": "code",
   "execution_count": 12,
   "id": "4ef01220",
   "metadata": {},
   "outputs": [
    {
     "data": {
      "text/plain": [
       "'Tom'"
      ]
     },
     "execution_count": 12,
     "metadata": {},
     "output_type": "execute_result"
    }
   ],
   "source": [
    "#Function\n",
    "def my_pet(name): #parameter\n",
    "    return name #output\n",
    "pet_name = my_pet(\"Tom\") \n",
    "pet_name #pet_name variable e my_pet function rakha hoise and call kora hoise. erpor my_pet er vitore jeita chilo seta function ke input dicchiand return hishebe oi parameter ta output hishebe pacchi"
   ]
  },
  {
   "cell_type": "code",
   "execution_count": 8,
   "id": "efc0917a",
   "metadata": {},
   "outputs": [
    {
     "data": {
      "text/plain": [
       "'Tom'"
      ]
     },
     "execution_count": 8,
     "metadata": {},
     "output_type": "execute_result"
    }
   ],
   "source": [
    "#Function\n",
    "def my_pet(name):\n",
    "    return name\n",
    "my_pet(\"Tom\")\n"
   ]
  },
  {
   "cell_type": "code",
   "execution_count": 11,
   "id": "daa5789e",
   "metadata": {},
   "outputs": [
    {
     "name": "stdout",
     "output_type": "stream",
     "text": [
      "Bangladesh\n",
      "India\n",
      "Pakistan\n"
     ]
    }
   ],
   "source": [
    "#Function with no return\n",
    "def country():\n",
    "    print(\"Bangladesh\")\n",
    "    print(\"India\")\n",
    "    print(\"Pakistan\")\n",
    "\n",
    "country()\n",
    "    \n",
    "    "
   ]
  },
  {
   "cell_type": "code",
   "execution_count": 13,
   "id": "4c510b19",
   "metadata": {},
   "outputs": [
    {
     "name": "stdout",
     "output_type": "stream",
     "text": [
      "Bangladesh\n",
      "India\n",
      "Pakistan\n"
     ]
    }
   ],
   "source": [
    "def country():\n",
    "    print(\"Bangladesh\")\n",
    "    print(\"India\")\n",
    "    print(\"Pakistan\")\n",
    "\n",
    "c=country()"
   ]
  },
  {
   "cell_type": "code",
   "execution_count": 15,
   "id": "04b3161e",
   "metadata": {},
   "outputs": [],
   "source": [
    "c #c er kono value nai karon kichu return kortesena. null "
   ]
  },
  {
   "cell_type": "code",
   "execution_count": 17,
   "id": "87393cbb",
   "metadata": {},
   "outputs": [
    {
     "data": {
      "text/plain": [
       "'White'"
      ]
     },
     "execution_count": 17,
     "metadata": {},
     "output_type": "execute_result"
    }
   ],
   "source": [
    "def my_pet(name,age,color):\n",
    "    return name, age, color\n",
    "name, age, color = my_pet(\"Tom\",18,\"White\")\n",
    "color"
   ]
  },
  {
   "cell_type": "code",
   "execution_count": 18,
   "id": "bf0c592a",
   "metadata": {},
   "outputs": [
    {
     "data": {
      "text/plain": [
       "'Tom'"
      ]
     },
     "execution_count": 18,
     "metadata": {},
     "output_type": "execute_result"
    }
   ],
   "source": [
    "def my_pet(name,age,color):\n",
    "    return name, age, color\n",
    "name, age, color = my_pet(\"Tom\",18,\"White\")\n",
    "name"
   ]
  },
  {
   "cell_type": "code",
   "execution_count": 19,
   "id": "50f26f16",
   "metadata": {},
   "outputs": [
    {
     "data": {
      "text/plain": [
       "18"
      ]
     },
     "execution_count": 19,
     "metadata": {},
     "output_type": "execute_result"
    }
   ],
   "source": [
    "def my_pet(name,age,color):\n",
    "    return name, age, color\n",
    "name, age, color = my_pet(\"Tom\",18,\"White\")\n",
    "age"
   ]
  },
  {
   "cell_type": "code",
   "execution_count": 21,
   "id": "7d971ba4",
   "metadata": {},
   "outputs": [
    {
     "data": {
      "text/plain": [
       "('Tom', 18)"
      ]
     },
     "execution_count": 21,
     "metadata": {},
     "output_type": "execute_result"
    }
   ],
   "source": [
    "def my_pet(name,age,color):\n",
    "    return name, age, color\n",
    "tup = my_pet(\"Tom\",18,\"White\") #tuple hishebe output dibe\n",
    "tup"
   ]
  },
  {
   "cell_type": "code",
   "execution_count": 22,
   "id": "a1881880",
   "metadata": {},
   "outputs": [
    {
     "data": {
      "text/plain": [
       "('Tom', 18)"
      ]
     },
     "execution_count": 22,
     "metadata": {},
     "output_type": "execute_result"
    }
   ],
   "source": [
    "def my_pet(name,age,color):\n",
    "    return name, age #duita return korbe just\n",
    "tup = my_pet(\"Tom\",18,\"White\") #tuple hishebe output dibe\n",
    "tup"
   ]
  },
  {
   "cell_type": "code",
   "execution_count": 23,
   "id": "6fcdf295",
   "metadata": {},
   "outputs": [
    {
     "data": {
      "text/plain": [
       "('Tom', 18, 'Red')"
      ]
     },
     "execution_count": 23,
     "metadata": {},
     "output_type": "execute_result"
    }
   ],
   "source": [
    "def my_pet(name,age,color='Red'): #Color er vitore default value assign kora hoise\n",
    "    return name, age,color\n",
    "tup = my_pet(\"Tom\",18) \n",
    "tup"
   ]
  },
  {
   "cell_type": "code",
   "execution_count": 25,
   "id": "9110be9a",
   "metadata": {},
   "outputs": [
    {
     "data": {
      "text/plain": [
       "('Tom', 18, 'Blue')"
      ]
     },
     "execution_count": 25,
     "metadata": {},
     "output_type": "execute_result"
    }
   ],
   "source": [
    "def my_pet(name,age,color='Red'): #Color er vitore default value assign kora hoise\n",
    "    return name, age,color\n",
    "tup = my_pet(\"Tom\",18,'Blue') #Color er value over write kora hoise\n",
    "tup"
   ]
  },
  {
   "cell_type": "code",
   "execution_count": 44,
   "id": "8dd43813",
   "metadata": {},
   "outputs": [
    {
     "name": "stdout",
     "output_type": "stream",
     "text": [
      "14\n",
      "12\n",
      "12\n"
     ]
    }
   ],
   "source": [
    "def numbers(n):\n",
    "    n=12\n",
    "    print(n)\n",
    "    return n\n",
    "n=14\n",
    "print(n)\n",
    "print(numbers(13))"
   ]
  },
  {
   "cell_type": "code",
   "execution_count": 41,
   "id": "8e43de28",
   "metadata": {},
   "outputs": [
    {
     "name": "stdout",
     "output_type": "stream",
     "text": [
      "14\n",
      "20\n",
      "21\n"
     ]
    }
   ],
   "source": [
    "def numbers(n):\n",
    "    print(n)\n",
    "    n+=1\n",
    "    return n\n",
    "n=14\n",
    "print(n)\n",
    "print(numbers(20))"
   ]
  },
  {
   "cell_type": "code",
   "execution_count": 45,
   "id": "38a8cbeb",
   "metadata": {},
   "outputs": [
    {
     "name": "stdout",
     "output_type": "stream",
     "text": [
      "0\n",
      "1\n",
      "2\n",
      "3\n",
      "4\n"
     ]
    }
   ],
   "source": [
    "def numbers(i):\n",
    "    i=12 #local\n",
    "    return i\n",
    "for i in range (5): #global e local er kono impact nai\n",
    "    print(i)"
   ]
  },
  {
   "cell_type": "code",
   "execution_count": 21,
   "id": "667f2da0",
   "metadata": {},
   "outputs": [
    {
     "data": {
      "text/plain": [
       "25"
      ]
     },
     "execution_count": 21,
     "metadata": {},
     "output_type": "execute_result"
    }
   ],
   "source": [
    "#Lambda Function - annonynomous function\n",
    "\n",
    "def add(a,b):\n",
    "    return a+b\n",
    "x=add(10,15)\n",
    "x\n"
   ]
  },
  {
   "cell_type": "code",
   "execution_count": 22,
   "id": "4fc421ed",
   "metadata": {},
   "outputs": [
    {
     "data": {
      "text/plain": [
       "25"
      ]
     },
     "execution_count": 22,
     "metadata": {},
     "output_type": "execute_result"
    }
   ],
   "source": [
    "sum_1 = lambda a,b : a+b\n",
    "sum_1(10,15)"
   ]
  },
  {
   "cell_type": "code",
   "execution_count": 55,
   "id": "ca720a66",
   "metadata": {},
   "outputs": [
    {
     "name": "stdout",
     "output_type": "stream",
     "text": [
      "[1, 4, 9, 16, 25, 36, 49, 64, 81, 100]\n",
      "[False, True, False, True, False, True, False, True, False, True]\n",
      "[2, 4, 6, 8, 10]\n",
      "[1, 3, 5, 7, 9]\n",
      "1\n",
      "4\n",
      "9\n",
      "16\n",
      "25\n",
      "36\n",
      "49\n",
      "64\n",
      "81\n",
      "100\n"
     ]
    }
   ],
   "source": [
    "#Map function is used to change the internal operation or variables under a list for example. map(function,iterable)\n",
    "\n",
    "#Map Function, Filter Function, Reduce Function\n",
    "\n",
    "def square(n): #for square\n",
    "    return n*n\n",
    "def even(n): #for even\n",
    "    return n%2==0 #return n%2==0 mane hocche true naki false return kora true return korle even number print korbe\n",
    "\n",
    "list_1=[1,2,3,4,5,6,7,8,9,10]\n",
    "\n",
    "square = list(map(square,list_1))\n",
    "print(square)\n",
    "\n",
    "even_number = list(map(even,list_1)) #Set diyeo hobe but apatoto hocchena\n",
    "print(even_number)\n",
    "\n",
    "even_number_filter = list(filter(even,list_1))\n",
    "print(even_number_filter)\n",
    "\n",
    "odd_number_filter = list(filter(lambda n: n%2!=0, list_1))\n",
    "print(odd_number_filter)\n",
    "\n",
    "for i in list_1:\n",
    "    print(i*i)"
   ]
  },
  {
   "cell_type": "code",
   "execution_count": 56,
   "id": "9c88c298",
   "metadata": {},
   "outputs": [
    {
     "data": {
      "text/plain": [
       "15"
      ]
     },
     "execution_count": 56,
     "metadata": {},
     "output_type": "execute_result"
    }
   ],
   "source": [
    "from functools import reduce\n",
    "list_1=[1,2,3,4,5]\n",
    "sum = reduce(lambda a,b: a+b, list_1)\n",
    "sum"
   ]
  },
  {
   "cell_type": "code",
   "execution_count": 68,
   "id": "0c87b524",
   "metadata": {},
   "outputs": [
    {
     "data": {
      "text/plain": [
       "28"
      ]
     },
     "execution_count": 68,
     "metadata": {},
     "output_type": "execute_result"
    }
   ],
   "source": [
    "# from functools import reduce\n",
    "list_1=[1,2,3,4,5,6,7]\n",
    "sum = reduce(lambda a,b: a+b, list_1) #reduce function always takes two input as parameters only\n",
    "sum"
   ]
  },
  {
   "cell_type": "code",
   "execution_count": null,
   "id": "d7694ed6",
   "metadata": {},
   "outputs": [],
   "source": []
  },
  {
   "cell_type": "code",
   "execution_count": null,
   "id": "8dea5b13",
   "metadata": {},
   "outputs": [],
   "source": []
  }
 ],
 "metadata": {
  "kernelspec": {
   "display_name": "Python 3 (ipykernel)",
   "language": "python",
   "name": "python3"
  },
  "language_info": {
   "codemirror_mode": {
    "name": "ipython",
    "version": 3
   },
   "file_extension": ".py",
   "mimetype": "text/x-python",
   "name": "python",
   "nbconvert_exporter": "python",
   "pygments_lexer": "ipython3",
   "version": "3.10.10"
  }
 },
 "nbformat": 4,
 "nbformat_minor": 5
}
